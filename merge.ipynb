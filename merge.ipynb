{
 "cells": [
  {
   "cell_type": "markdown",
   "id": "c81d2065",
   "metadata": {},
   "source": [
    "# Given a list of possibly overlapping intervals, return a new list of intervals where all overlapping intervals have been merged.\n",
    "\n",
    "The input list is not necessarily ordered in any way.\n",
    "\n",
    "For example, given [(1, 3), (5, 8), (4, 10), (20, 25)], you should return [(1, 3), (4, 10), (20, 25)]."
   ]
  },
  {
   "cell_type": "code",
   "execution_count": null,
   "id": "b15dbe32",
   "metadata": {},
   "outputs": [],
   "source": [
    "def merge(intervals):\n",
    "    result = []\n",
    "    for start, end in sorted(intervals, key=lambda i: i[0]):\n",
    "        # If current interval overlaps with the previous one, combine them\n",
    "        if result and start <= result[-1][1]:\n",
    "            prev_start, prev_end = result[-1]\n",
    "            result[-1] = (prev_start, max(end, prev_end))\n",
    "        else:\n",
    "            result.append((start, end))\n",
    "    return result"
   ]
  }
 ],
 "metadata": {
  "kernelspec": {
   "display_name": "Python 3 (ipykernel)",
   "language": "python",
   "name": "python3"
  },
  "language_info": {
   "codemirror_mode": {
    "name": "ipython",
    "version": 3
   },
   "file_extension": ".py",
   "mimetype": "text/x-python",
   "name": "python",
   "nbconvert_exporter": "python",
   "pygments_lexer": "ipython3",
   "version": "3.9.13"
  }
 },
 "nbformat": 4,
 "nbformat_minor": 5
}
