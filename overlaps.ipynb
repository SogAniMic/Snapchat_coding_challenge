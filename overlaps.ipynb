{
 "cells": [
  {
   "cell_type": "markdown",
   "id": "d646b92d",
   "metadata": {},
   "source": [
    "# Given an array of time intervals (start, end) for classroom lectures (possibly overlapping), find the minimum number of rooms required.\n",
    "\n",
    "For example, given [(30, 75), (0, 50), (60, 150)], you should return 2."
   ]
  },
  {
   "cell_type": "code",
   "execution_count": null,
   "id": "512a58a5",
   "metadata": {},
   "outputs": [],
   "source": [
    "def overlaps(a, b):\n",
    "    start_a, end_a = a\n",
    "    start_b, end_b = b\n",
    "    # It doesn't overlap if it's like this:\n",
    "    #   |start_a .... end_a|  <---> |start_b ... end_b|\n",
    "    # or like this:\n",
    "    #   |start_b .... end_b|  <---> |start_a ... end_a|\n",
    "    # so return not or either of these\n",
    "    return not (end_a < start_b or start_a > end_b)\n",
    "\n",
    "def max_overlapping(intervals):\n",
    "    current_max = 0\n",
    "    for interval in intervals:\n",
    "        num_overlapping = sum(overlaps(interval, other_interval)\n",
    "            for other_interval in intervals\n",
    "            if interval is not other_interval)\n",
    "        current_max = max(current_max, num_overlapping)\n",
    "    return current_max"
   ]
  },
  {
   "cell_type": "code",
   "execution_count": null,
   "id": "1f97c678",
   "metadata": {},
   "outputs": [],
   "source": []
  }
 ],
 "metadata": {
  "kernelspec": {
   "display_name": "Python 3 (ipykernel)",
   "language": "python",
   "name": "python3"
  },
  "language_info": {
   "codemirror_mode": {
    "name": "ipython",
    "version": 3
   },
   "file_extension": ".py",
   "mimetype": "text/x-python",
   "name": "python",
   "nbconvert_exporter": "python",
   "pygments_lexer": "ipython3",
   "version": "3.9.13"
  }
 },
 "nbformat": 4,
 "nbformat_minor": 5
}
