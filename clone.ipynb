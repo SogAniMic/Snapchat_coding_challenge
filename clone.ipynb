{
 "cells": [
  {
   "cell_type": "markdown",
   "id": "2a3cba73",
   "metadata": {},
   "source": [
    "# Given the head to a singly linked list, where each node also has a “random” pointer that points to anywhere in the linked list, deep clone the list."
   ]
  },
  {
   "cell_type": "code",
   "execution_count": null,
   "id": "309786e9",
   "metadata": {},
   "outputs": [],
   "source": [
    "def clone(node):\n",
    "    node = double(node)\n",
    "    set_random_pointers(node)\n",
    "\n",
    "    clone_head = node.next\n",
    "\n",
    "    while node:\n",
    "        clone_match = node.next\n",
    "\n",
    "        if clone_match.next:\n",
    "            node.next, clone_match.next = node.next.next, clone_match.next.next\n",
    "        else:\n",
    "            node.next, clone_match.next = node.next.next, None\n",
    "\n",
    "        node = node.next\n",
    "\n",
    "    return clone_head\n",
    "\n",
    "def set_random_pointers(node):\n",
    "    while node:\n",
    "        clone_match = node.next\n",
    "        clone_match.random = node.random.next\n",
    "\n",
    "        node = node.next.next\n",
    "\n",
    "def double(node):\n",
    "    root = node\n",
    "    while node:\n",
    "        copy = Node(node.val)\n",
    "        next = node.next\n",
    "\n",
    "        node.next = copy\n",
    "        copy.next = next\n",
    "        node = next\n",
    "\n",
    "    return root"
   ]
  }
 ],
 "metadata": {
  "kernelspec": {
   "display_name": "Python 3 (ipykernel)",
   "language": "python",
   "name": "python3"
  },
  "language_info": {
   "codemirror_mode": {
    "name": "ipython",
    "version": 3
   },
   "file_extension": ".py",
   "mimetype": "text/x-python",
   "name": "python",
   "nbconvert_exporter": "python",
   "pygments_lexer": "ipython3",
   "version": "3.9.13"
  }
 },
 "nbformat": 4,
 "nbformat_minor": 5
}
